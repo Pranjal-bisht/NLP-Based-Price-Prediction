{
 "cells": [
  {
   "cell_type": "code",
   "execution_count": null,
   "metadata": {},
   "outputs": [],
   "source": [
    "# \"\"\"\n",
    "# XGBRegressor\n",
    "# \"\"\"\n",
    "# xgb_model = xgb.XGBRegressor()\n",
    "# xgb_model.fit(train_data, y_train)\n",
    "\n",
    "# predictions = xgb_model.predict(train_data)\n",
    "# train_score = get_rmsle(np.expm1(y_train), np.expm1(predictions))\n",
    "# print('Train rmsle explained: ', train_score)\n",
    "\n",
    "# predictions = xgb_model.predict(test_data)\n",
    "# test_score = get_rmsle(np.expm1(y_test), np.expm1(predictions))\n",
    "# print('Test rmsle explained: ', test_score)"
   ]
  },
  {
   "cell_type": "code",
   "execution_count": null,
   "metadata": {},
   "outputs": [],
   "source": [
    "# #values of these parameters are taken randomly\n",
    "# xgb_params = {'gamma': 0.2, 'reg_lambda': 0.5, 'learning_rate': 0.07,\n",
    "#               'subsample': 0.7, 'colsample_bytree': 0.9, 'reg_alpha': 0.6,\n",
    "#               'max_depth': 6}\n",
    "\n",
    "# estimators = [50, 100, 300, 500, 1000]\n",
    "\n",
    "# for i in estimators:\n",
    "#     regr = xgb.XGBRegressor(n_estimators=i)\n",
    "#     regr.set_params(**xgb_params)\n",
    "\n",
    "#     regr.fit(train_data, y_train)\n",
    "#     y_pred = regr.predict(test_data)\n",
    "    \n",
    "#     print('Test rmsle explained for n_estimators = {} is {:.3f}'.format(i, get_rmsle(np.expm1(y_test), np.expm1(y_pred))))"
   ]
  },
  {
   "cell_type": "code",
   "execution_count": null,
   "metadata": {},
   "outputs": [],
   "source": [
    "# xgb_params = {'gamma': 0.2, 'reg_lambda': 0.5, 'learning_rate': 0.07,\n",
    "#               'subsample': 0.7, 'colsample_bytree': 0.9, 'reg_alpha': 0.6,\n",
    "#               'max_depth': 6}\n",
    "\n",
    "# xgb_model = xgb.XGBRegressor(n_estimators = 1000)\n",
    "# xgb_model.set_params(**xgb_params)\n",
    "\n",
    "# xgb_model.fit(train_data, y_train)\n",
    "\n",
    "# predictions = xgb_model.predict(train_data)\n",
    "# train_score = get_rmsle(np.expm1(y_train), np.expm1(predictions))\n",
    "# print('Train rmsle explained: ', train_score)\n",
    "\n",
    "# predictions_xgb = xgb_model.predict(test_data)\n",
    "# test_score = get_rmsle(np.expm1(y_test), np.expm1(predictions_xgb))\n",
    "# print('Test rmsle explained: ', test_score)"
   ]
  },
  {
   "cell_type": "code",
   "execution_count": null,
   "metadata": {},
   "outputs": [],
   "source": [
    "# #ridge\n",
    "# ridge_model = Ridge(solver='lsqr', fit_intercept=False) #solver='lsqr' reduces time to train significantly\n",
    "# ridge_model.fit(train_data, y_train)\n",
    "\n",
    "# predictions = ridge_model.predict(train_data)\n",
    "# train_score = get_rmsle(np.expm1(y_train), np.expm1(predictions))\n",
    "# print('Train rmsle explained: ', train_score)\n",
    "\n",
    "# predictions = ridge_model.predict(test_data)\n",
    "# test_score = get_rmsle(np.expm1(y_test), np.expm1(predictions))\n",
    "# print('Train rmsle explained: ', test_score)"
   ]
  },
  {
   "cell_type": "code",
   "execution_count": null,
   "metadata": {},
   "outputs": [],
   "source": [
    "# params = {'alpha': [0.0001, 0.001, 0.01, 0.1, 1, 10]}\n",
    "\n",
    "# ridge_model = Ridge(solver='lsqr', fit_intercept=False)\n",
    "\n",
    "# grid_search_ridge = GridSearchCV(estimator = ridge_model, param_grid = params, cv = 3, verbose=True,\n",
    "#                                  scoring = 'neg_mean_squared_error', return_train_score = True)\n",
    "\n",
    "# grid_search_ridge.fit(train_data, y_train)\n",
    "\n",
    "# print(grid_search_ridge.best_params_)"
   ]
  },
  {
   "cell_type": "code",
   "execution_count": null,
   "metadata": {},
   "outputs": [],
   "source": [
    "# ridge_model = Ridge(alpha = 1, solver = 'lsqr', fit_intercept = False)\n",
    "# ridge_model.fit(train_data, y_train)\n",
    "\n",
    "# predictions = ridge_model.predict(train_data)\n",
    "# train_score = get_rmsle(np.expm1(y_train), np.expm1(predictions))\n",
    "# print('Train rmsle explained: ', train_score)\n",
    "# print('-'*100)\n",
    "\n",
    "# predictions_ridge = ridge_model.predict(test_data)\n",
    "# test_score = get_rmsle(np.expm1(y_test), np.expm1(predictions_ridge))\n",
    "# print('Test rmsle explained: ', test_score)"
   ]
  },
  {
   "cell_type": "code",
   "execution_count": null,
   "metadata": {},
   "outputs": [],
   "source": [
    "# lgbm_model = LGBMRegressor()\n",
    "\n",
    "# lgbm_model.fit(train_data, y_train)\n",
    "\n",
    "# predictions = lgbm_model.predict(train_data)\n",
    "# train_score = get_rmsle(np.expm1(y_train), np.expm1(predictions))\n",
    "# print('Train rmsle explained: ', train_score)\n",
    "# print('-'*100)\n",
    "\n",
    "# predictions = lgbm_model.predict(test_data)\n",
    "# test_score = get_rmsle(np.expm1(y_test), np.expm1(predictions))\n",
    "# print('Test rmsle explained: ', test_score)"
   ]
  },
  {
   "cell_type": "code",
   "execution_count": null,
   "metadata": {},
   "outputs": [],
   "source": [
    "# #LGBRegressor\n",
    "# lgbm_model = LGBMRegressor()\n",
    "\n",
    "# params_grid = {'learning_rate': [0.01, 0.1, 1], 'n_estimators': [100, 300, 500], 'num_leaves': [5, 7]}\n",
    "\n",
    "# lgbm = GridSearchCV(estimator=lgbm_model, param_grid = params_grid, cv=2)\n",
    "# lgbm.fit(train_data, y_train)\n",
    "\n",
    "# print(lgbm.best_params_)"
   ]
  },
  {
   "cell_type": "code",
   "execution_count": null,
   "metadata": {},
   "outputs": [],
   "source": [
    "# lgbm_model = LGBMRegressor(learning_rate=1, n_estimators=500)\n",
    "\n",
    "# lgbm_model.fit(train_data, y_train)\n",
    "\n",
    "# predictions = lgbm_model.predict(train_data)\n",
    "# train_score = get_rmsle(np.expm1(y_train), np.expm1(predictions))\n",
    "# print('Train rmsle explained: ', train_score)\n",
    "# print('-'*100)\n",
    "\n",
    "# predictions_lgbm = lgbm_model.predict(test_data)\n",
    "# test_score = get_rmsle(np.expm1(y_test), np.expm1(predictions_lgbm))\n",
    "# print('Test rmsle explained: ', test_score)"
   ]
  }
 ],
 "metadata": {
  "language_info": {
   "name": "python"
  },
  "orig_nbformat": 4
 },
 "nbformat": 4,
 "nbformat_minor": 2
}
